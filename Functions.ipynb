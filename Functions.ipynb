{
  "nbformat": 4,
  "nbformat_minor": 0,
  "metadata": {
    "colab": {
      "provenance": []
    },
    "kernelspec": {
      "name": "python3",
      "display_name": "Python 3"
    },
    "language_info": {
      "name": "python"
    }
  },
  "cells": [
    {
      "cell_type": "markdown",
      "source": [
        "# **function to count the occurances**"
      ],
      "metadata": {
        "id": "yzQ9XXtqSSOe"
      }
    },
    {
      "cell_type": "code",
      "source": [
        "#function to count the occurances of character in a string\n",
        "def count_character(string,char):\n",
        "  return string.count(char)\n",
        ""
      ],
      "metadata": {
        "id": "BXlc5UV9SYFa"
      },
      "execution_count": 1,
      "outputs": []
    },
    {
      "cell_type": "code",
      "source": [
        "count_character(\"Minahil\",\"i\")"
      ],
      "metadata": {
        "colab": {
          "base_uri": "https://localhost:8080/"
        },
        "id": "8PH1VGYiSaF7",
        "outputId": "7ae68f6e-e762-49da-8bb4-90fcf4e8353e"
      },
      "execution_count": 2,
      "outputs": [
        {
          "output_type": "execute_result",
          "data": {
            "text/plain": [
              "2"
            ]
          },
          "metadata": {},
          "execution_count": 2
        }
      ]
    },
    {
      "cell_type": "markdown",
      "source": [
        "# **function to check palindrome**"
      ],
      "metadata": {
        "id": "esWvOCyhSb0e"
      }
    },
    {
      "cell_type": "code",
      "source": [
        "#function to check that given word is palindrome\n",
        "def is_palindrome(word):\n",
        "  reversed_word=word[::-1]\n",
        "  if word == reversed_word:\n",
        "    print(word, \"is palindrome\")\n",
        "  else:\n",
        "    print(word, \"is not palindrome\")"
      ],
      "metadata": {
        "id": "oKUeR6MnSg_i"
      },
      "execution_count": 3,
      "outputs": []
    },
    {
      "cell_type": "code",
      "source": [
        "is_palindrome(\"sanas\")"
      ],
      "metadata": {
        "colab": {
          "base_uri": "https://localhost:8080/"
        },
        "id": "N5eWUqRmSj9-",
        "outputId": "aec9826a-8222-480d-e720-5fd86598200e"
      },
      "execution_count": 4,
      "outputs": [
        {
          "output_type": "stream",
          "name": "stdout",
          "text": [
            "sanas is palindrome\n"
          ]
        }
      ]
    },
    {
      "cell_type": "code",
      "source": [
        "is_palindrome(\"high\")"
      ],
      "metadata": {
        "colab": {
          "base_uri": "https://localhost:8080/"
        },
        "id": "L3LmZ4KySk0Q",
        "outputId": "ca436948-cd30-42bf-d143-9f5e4df2dbc3"
      },
      "execution_count": 5,
      "outputs": [
        {
          "output_type": "stream",
          "name": "stdout",
          "text": [
            "high is not palindrome\n"
          ]
        }
      ]
    },
    {
      "cell_type": "markdown",
      "source": [
        "# **function to reverse string**"
      ],
      "metadata": {
        "id": "7eMRJODDSnGP"
      }
    },
    {
      "cell_type": "code",
      "source": [
        "#function to reversed string\n",
        "def reversed_str(string):\n",
        "  return string[::-1]"
      ],
      "metadata": {
        "id": "mpAqIWSwSqwn"
      },
      "execution_count": 6,
      "outputs": []
    },
    {
      "cell_type": "code",
      "source": [
        "reversed_str(\"minahil\")"
      ],
      "metadata": {
        "colab": {
          "base_uri": "https://localhost:8080/",
          "height": 35
        },
        "id": "Cec06cLHSskt",
        "outputId": "0ab27dc2-b5eb-414a-ee80-e0768a85379d"
      },
      "execution_count": 7,
      "outputs": [
        {
          "output_type": "execute_result",
          "data": {
            "text/plain": [
              "'lihanim'"
            ],
            "application/vnd.google.colaboratory.intrinsic+json": {
              "type": "string"
            }
          },
          "metadata": {},
          "execution_count": 7
        }
      ]
    }
  ]
}